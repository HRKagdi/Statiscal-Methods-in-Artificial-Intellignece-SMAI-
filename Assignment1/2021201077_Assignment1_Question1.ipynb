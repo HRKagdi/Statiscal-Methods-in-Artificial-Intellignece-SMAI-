{
  "cells": [
    {
      "cell_type": "markdown",
      "id": "7b7992a1",
      "metadata": {
        "id": "7b7992a1"
      },
      "source": [
        "# Image Recommendation System via Collaborative Filtering\n",
        "\n",
        "> Indented block\n",
        "\n"
      ]
    },
    {
      "cell_type": "markdown",
      "id": "bdbd69cd",
      "metadata": {
        "id": "bdbd69cd"
      },
      "source": [
        "# ***Please read the instructions very carefully***"
      ]
    },
    {
      "cell_type": "markdown",
      "id": "17602772",
      "metadata": {
        "id": "17602772"
      },
      "source": [
        "1.   Assignment must be implemented in Python 3 only.\n",
        "2.   You are allowed to use libraries for data preprocessing (numpy, pandas, nltk etc) and for evaluation metrics, data visualization (matplotlib etc.).\n",
        "3.   You will be evaluated not just on the overall performance of the model and also on the experimentation with hyper parameters, data prepossessing techniques etc.\n",
        "4.   ⚠️ The Assignment will be evaluated automatically. Please adhere to taking proper inputs from `config.csv` file. You can change your `config.csv` file to experiment with your code. But at the end, make sure that your outputs are corresponding to input values in `config.csv`\n",
        "5.   Strict plagiarism checking will be done. An F will be awarded for plagiarism."
      ]
    },
    {
      "cell_type": "markdown",
      "id": "3c9abf04",
      "metadata": {
        "id": "3c9abf04"
      },
      "source": [
        "## About the Dataset\n",
        "Behance is a community art website where users showcase and discover creative work. Each user is able to “appreciate” (equivalent to a “like” on Instagram or a “react” on Facebook) an image, indicating that they like the image. It is in the website’s best interests to show users pictures that they would like, to keep them engaged for longer. For this question, given a set of pictures that a user has already appreciated, you have to show them a new picture that they would like based on what similar users appreciated.\n",
        "\n",
        "\n",
        "<br><br>\n",
        "**The dataset has information of 1 million appreciates of 63,497 users on 178,788 items. The file Behance appreciate 1M has a triplet in each line in the form of (user id, item id, unix timestamp).**"
      ]
    },
    {
      "cell_type": "markdown",
      "id": "11f6eaf3",
      "metadata": {
        "id": "11f6eaf3"
      },
      "source": [
        "**Task: Take the inputs from the config.csv file and output the recommendations for a particular person**\n",
        "- Collaborative Filtering is a way to predict items to the user based on the the\n",
        "user’s history and the history of similar users. The similarity between users can be quantified by the number of images that both the users appreciated.\n",
        "- The images appreciated by a similar user would be the most suitable images to show a user. Since we can find the similarity between any two users, we would be able to find the “nearest” neighbours of any user, allowing us to use a KNN-based algorithm to recommend new images to a user.\n",
        "- Since people do not like seeing pictures that they have seen already. Make sure that you do not recommend pictures that a user has appreciated already.\n",
        "- Output the final response will be saved in the file named ```config['output_file']```.\n"
      ]
    },
    {
      "cell_type": "markdown",
      "id": "1c9a5e4f",
      "metadata": {
        "id": "1c9a5e4f"
      },
      "source": [
        "**Output file format:**\n",
        "Populate the output file with images that the user has not seen of the k most\n",
        "similar users, in descending order of their similarity. Each line in the output\n",
        "file should be a duplet in the form of (item id, user id), where the user id is the\n",
        "id of the kth similar user. The order of the images corresponding to the same\n",
        "similar user would not matter. The output file would look something like this:\n",
        "```\n",
        "item_id_1_of_1st_similar_user 1st_most_similar_user_id\n",
        "item_id_2_of_1st_similar_user 1st_most_similar_user_id\n",
        "item_id_3_of_1st_similar_user 1st_most_similar_user_id\n",
        "...\n",
        "item_id_1_of_2nd_similar_user 2nd_most_similar_user_id\n",
        "item_id_2_of_2nd_similar_user 2nd_most_similar_user_id\n",
        "item_id_3_of_2nd_similar_user 2nd_most_similar_user_id\n",
        "...\n",
        "item_id_1_of_kth_similar_user kth_most_similar_user_id\n",
        "item_id_2_of_kth_similar_user kth_most_similar_user_id\n",
        "item_id_3_of_kth_similar_user kth_most_similar_user_id\n",
        "```"
      ]
    },
    {
      "cell_type": "markdown",
      "id": "c6d0c592",
      "metadata": {
        "id": "c6d0c592"
      },
      "source": [
        "The dataset was extracted using Behance’s API as a part of the paper\n",
        "“Vista: A visually, socially, and temporally-aware model for artistic\n",
        "recommendation, RecSys, 2016”. Check out this [Google Drive folder](https://drive.google.com/drive/folders/0B9Ck8jw-TZUEc3NlMjVXdDlPU1k?resourcekey=0-6_8ykn0o4fLc5fuTEm91xA) for\n",
        "more information about the dataset.\n",
        "\n",
        "\n",
        "Have fun! The users are waiting to see new pictures!"
      ]
    },
    {
      "cell_type": "markdown",
      "id": "87b8072a",
      "metadata": {
        "id": "87b8072a"
      },
      "source": [
        "### Import necessary libraries"
      ]
    },
    {
      "cell_type": "code",
      "execution_count": 1,
      "id": "f153853d",
      "metadata": {
        "id": "f153853d"
      },
      "outputs": [],
      "source": [
        "import numpy as np                        # For mathematical operations on vector and matrices.\n",
        "import pandas as pd                       # For data preprocessing.\n",
        "import matplotlib.pyplot as plt           # For plotting graphs and visualization.            \n",
        "from scipy.sparse import csr_matrix       # For conversion of a matrix to compresses sparse row format matrix.\n",
        "#from scipy.sparse.linalg import svds, eigs  \n",
        "import scipy.stats                          \n",
        "from sklearn.decomposition import TruncatedSVD   #For calculating Singular Value Decomposition(SVD) of a matrix."
      ]
    },
    {
      "cell_type": "code",
      "execution_count": 2,
      "id": "41ac6337",
      "metadata": {
        "id": "41ac6337"
      },
      "outputs": [],
      "source": [
        "# Config Generation Sample Code.\n",
        "# ⚠️ Only for experimentation on your side.\n",
        "# ⚠️ Should be commented during submission.\n",
        "\n",
        "# df = pd.DataFrame(data=[{'id':276633,\n",
        "#                   'k':5,\n",
        "#                   'dataset_file':'./Behance_appreciate_1M',\n",
        "#                   'output_file':'./output.txt'}])\n",
        "# df.to_csv('config.csv')"
      ]
    },
    {
      "cell_type": "code",
      "execution_count": 3,
      "id": "7af3e999",
      "metadata": {
        "id": "7af3e999"
      },
      "outputs": [],
      "source": [
        "config = pd.read_csv('config.csv').iloc[0]      # Reads csv config file."
      ]
    },
    {
      "cell_type": "code",
      "execution_count": 4,
      "id": "829d0147",
      "metadata": {
        "colab": {
          "base_uri": "https://localhost:8080/"
        },
        "id": "829d0147",
        "outputId": "84d5bbb4-bae5-4539-bd03-3d07f39cf405"
      },
      "outputs": [
        {
          "output_type": "execute_result",
          "data": {
            "text/plain": [
              "Unnamed: 0                            0\n",
              "id                               276633\n",
              "k                                     5\n",
              "dataset_file    ./Behance_appreciate_1M\n",
              "output_file                ./output.txt\n",
              "Name: 0, dtype: object"
            ]
          },
          "metadata": {},
          "execution_count": 4
        }
      ],
      "source": [
        "config                                          # config file details."
      ]
    },
    {
      "cell_type": "code",
      "execution_count": 5,
      "id": "f4d09c27",
      "metadata": {
        "id": "f4d09c27"
      },
      "outputs": [],
      "source": [
        "user_config = config['id']                            # Extracting userid and k for testing.\n",
        "k_value_config = config['k']"
      ]
    },
    {
      "cell_type": "markdown",
      "id": "10935090",
      "metadata": {
        "id": "10935090"
      },
      "source": [
        "### Read the Data"
      ]
    },
    {
      "cell_type": "code",
      "execution_count": 6,
      "id": "5bbba85a",
      "metadata": {
        "id": "5bbba85a"
      },
      "outputs": [],
      "source": [
        "# Reads the data in a list. Each row in the email.txt file is now a list of size 3 in appreciate data list.\n",
        "# Each row of appreciate data contains userId, imageId and timestamp.\n",
        "with open(config['dataset_file'], 'r') as inFile:\n",
        "    data = inFile.readlines()\n",
        "appreciate_data=[]\n",
        "for case in data:\n",
        "    case=case.strip()\n",
        "    temp=case.split()\n",
        "    appreciate_data.append(temp)"
      ]
    },
    {
      "cell_type": "code",
      "source": [
        "unique_images=set()                                         # For storing ids of unique images\n",
        "unique_users=set()                                          # For storing ids of unique users.\n",
        "userMap={}                                                  # For storing user-index mapping. Each user has been assigned an index.\n",
        "imageMap={}                                                 # For storing image-index mapping. Each image has been assignmed an index.    \n",
        "userImageMap={}                                             # Contains {user, liked_images} as key value pairs.     \n",
        "\n",
        "# Function that calculates one hot encoding of data, compresses it computes SVD matrix and returns it.\n",
        "def helper(noOfUsers):\n",
        "    # Filling user_Image Map.\n",
        "    for i in range(0, len(appreciate_data)):\n",
        "        appreciate_data[i][0]=int(appreciate_data[i][0])\n",
        "        appreciate_data[i][1]=int(appreciate_data[i][1])\n",
        "        if(appreciate_data[i][0] not in userImageMap):\n",
        "            temp=[]\n",
        "            temp.append(appreciate_data[i][1])\n",
        "            userImageMap[appreciate_data[i][0]]=temp\n",
        "        else:\n",
        "            userImageMap[appreciate_data[i][0]].append(appreciate_data[i][1])\n",
        "\n",
        "    #Fills unique_images map.\n",
        "    count=0\n",
        "    for key in userImageMap:\n",
        "        unique_users.add(key)\n",
        "        for likedImage in userImageMap[key]:\n",
        "            unique_images.add(likedImage)\n",
        "        count+=1\n",
        "        if count>=noOfUsers:\n",
        "            break\n",
        "\n",
        "    # Finds user count and image count\n",
        "    userCount=0\n",
        "    imageCount=0\n",
        "    for user in unique_users:\n",
        "        userMap[user]=userCount\n",
        "        userCount+=1\n",
        "    for image in unique_images:\n",
        "        imageMap[image]=imageCount\n",
        "        imageCount+=1\n",
        "\n",
        "    userIndexes=list()\n",
        "    imageIndexes=list()\n",
        "    isLiked=list()\n",
        "    #Iterating over appreciate data and putting 1s at [userIndexes, imageIndexes]  \n",
        "    for line in appreciate_data:\n",
        "        userId= int(line[0])\n",
        "        itemId = int(line[1])\n",
        "        userIndexes.append(userMap[userId])\n",
        "        imageIndexes.append(imageMap[itemId])\n",
        "        isLiked.append(1)\n",
        "        \n",
        "    # Even after reducing the number of features of lakhs to 1200, it still matches with the output of jaccard metric without any reduction of matrix, \n",
        "    # SVD solves the problem of curse of dimesionality. It One of the most powerful tool used in this notebook.\n",
        "    Huge_matrix=csr_matrix((isLiked,(userIndexes,imageIndexes)))                # creates csr matrix.\n",
        "    svd=TruncatedSVD(n_components=1200)                                         # Initialing svd object with No of components initialized as 1200.\n",
        "    reduced_matrix=svd.fit_transform(Huge_matrix)                               # Creating reduced matrix.\n",
        "    return reduced_matrix\n",
        "\n",
        "reduced_matrix=helper(63497)\n",
        "reduced_matrix=reduced_matrix.tolist()"
      ],
      "metadata": {
        "id": "qfKtqbOxzWso"
      },
      "id": "qfKtqbOxzWso",
      "execution_count": 7,
      "outputs": []
    },
    {
      "cell_type": "markdown",
      "id": "99512e25",
      "metadata": {
        "id": "99512e25"
      },
      "source": [
        "### Initialize a dictionary to store the item_ids that a user likes\n",
        "\n",
        "### Go through each line of the input file and construct the user_likes dictionary"
      ]
    },
    {
      "cell_type": "code",
      "execution_count": 8,
      "id": "1d3d9be5",
      "metadata": {
        "id": "1d3d9be5"
      },
      "outputs": [],
      "source": [
        "# It is the user_likes dictionary created from userImageMap dictionary. Created two dictionary of same functionality just for clarity.\n",
        "user_likes = dict()                                                             "
      ]
    },
    {
      "cell_type": "code",
      "execution_count": 9,
      "id": "80a539f1",
      "metadata": {
        "id": "80a539f1",
        "colab": {
          "base_uri": "https://localhost:8080/"
        },
        "outputId": "d96ed10f-80db-43f4-aaa0-3356392503bf"
      },
      "outputs": [
        {
          "output_type": "stream",
          "name": "stdout",
          "text": [
            "63497\n"
          ]
        }
      ],
      "source": [
        "for user in unique_users:\n",
        "    user_id = user\n",
        "    images=userImageMap[user]\n",
        "\n",
        "    if user_id not in user_likes:\n",
        "        user_likes[user_id] = list()\n",
        "    user_likes[user_id]=images\n",
        "\n",
        "print(len(user_likes))"
      ]
    },
    {
      "cell_type": "markdown",
      "id": "9e199965",
      "metadata": {
        "id": "9e199965"
      },
      "source": [
        ""
      ]
    },
    {
      "cell_type": "code",
      "execution_count": 10,
      "id": "2117df52",
      "metadata": {
        "id": "2117df52"
      },
      "outputs": [],
      "source": [
        "from scipy import spatial\n",
        "import math\n",
        "# Cosine Similarity Fucntion. \n",
        "def similarity(list1, list2):\n",
        "    sim = spatial.distance.cosine(list1, list2)\n",
        "    return sim\n",
        "\n",
        "# Returns the difference of two lists[same funtionality like Difference operator in set]\n",
        "def difference(list1, list2):\n",
        "    set1=set()\n",
        "    ans=[]\n",
        "    for image in list2:\n",
        "        set1.add(image)\n",
        "    for image in list1:\n",
        "        if image not in set1:\n",
        "            ans.append(image) \n",
        "    return ans\n",
        "\n",
        "# KNN Fucntion.\n",
        "def neighbors(user,k_value):\n",
        "    keys_list=list(userMap.keys())                      # Extracting keys from userMap in a list.\n",
        "    values_list=list(userMap.values())                  # Extarcting values from userMap in a list.          \n",
        "    index=userMap[user]                                 # Finding index of test_instance.\n",
        "    vector=reduced_matrix[index]                        # Finding latent features of that user.\n",
        "    matches=[]                                          # Stores similarity and userId as a pair.\n",
        "    for i in range(0, len(unique_users)):\n",
        "        if index != i:                                     # If i is not equal to test userIndex\n",
        "            pair=[]\n",
        "            sim=similarity(vector, reduced_matrix[i])       # Find similarity between them. \n",
        "            position = i\n",
        "            pair.append(sim)\n",
        "            pair.append(keys_list[position])\n",
        "            matches.append(pair)\n",
        "    matches.sort()                                      # Sorting the matches list.\n",
        "    count=0\n",
        "    ans=[]\n",
        "    for vec in matches:\n",
        "        curr_user=vec[1]\n",
        "        if curr_user in userImageMap.keys():\n",
        "            likedImages=difference(userImageMap[curr_user], userImageMap[user])\n",
        "            if(len(likedImages)==0):\n",
        "                continue\n",
        "            else:\n",
        "                count+=1\n",
        "                likedImages.append(curr_user)\n",
        "                ans.append(likedImages)\n",
        "        if(count==k_value):\n",
        "                break\n",
        "    return ans\n",
        "\n",
        "#list1 = neighbors(276633,k_value)"
      ]
    },
    {
      "cell_type": "markdown",
      "id": "892c395b",
      "metadata": {
        "id": "892c395b"
      },
      "source": [
        "### Open the output file to write all the lines to the file"
      ]
    },
    {
      "cell_type": "code",
      "execution_count": 11,
      "id": "428708d5",
      "metadata": {
        "id": "428708d5"
      },
      "outputs": [],
      "source": [
        "#Tesing\n",
        "#Takes 10-11 seconds for a testing a user.[Thanks to SVD]\n",
        "outFile = open(config['output_file'], 'w')\n",
        "list1 = neighbors(user_config,k_value_config)\n",
        "for n_user in list1:\n",
        "    user_id = n_user[-1]\n",
        "    for i in range(0, len(n_user)-1):\n",
        "        outFile.write(str(n_user[i]) + ' ' + str(user_id) + '\\n')\n",
        "outFile.close()"
      ]
    },
    {
      "cell_type": "code",
      "source": [
        "# used Only for comparision purpose.\n",
        "#def jacc_similarity(list1, list2):\n",
        "#    intersection = len(list(set(list1).intersection(list2)))\n",
        "#    return float(intersection) / union\n",
        "#\n",
        "#def difference(list1, list2):\n",
        "#    ans = [i for i in list1 + list2 if i not in list1 or i not in list2]\n",
        "#    return ans\n",
        "#def jaccard_neighbors(user,k_value):\n",
        "#    \"\"\" returns an iterable object (like list or generator) \"\"\"\n",
        "#    matches=[]\n",
        "#    user_likes_list = user_likes[user]\n",
        "#    for userId, likesList in user_likes.items():\n",
        "#        if(user!=userId):\n",
        "#            sim = jacc_similarity(user_likes_list, likesList)\n",
        "#            pair = []\n",
        "#            pair.append(sim)\n",
        "#            pair.append(userId)\n",
        "#            matches.append(pair)\n",
        "#    matches.sort(reverse=True)\n",
        "#    print(matches)\n",
        "#    topK=[]\n",
        "#    for i in range(0, k_value):\n",
        "#        diff = difference(user_likes[matches[i][1]], user_likes_list)\n",
        "#        diff.append(matches[i][1])\n",
        "#        topK.append(diff)\n",
        "#\n",
        "#    return topK\n",
        "\n",
        "#topK=neighbors(user, k_value)"
      ],
      "metadata": {
        "id": "tn0HDNceuhso"
      },
      "id": "tn0HDNceuhso",
      "execution_count": 12,
      "outputs": []
    },
    {
      "cell_type": "code",
      "source": [
        "#outFile = open('jaccard_output', 'w')\n",
        "#list1 = jaccard_neighbors(276633,k_value)\n",
        "#print(list1)\n",
        "#for n_user in list1:\n",
        "#    user_id = n_user[-1]\n",
        "#    for i in range(0, len(n_user)-1):\n",
        "#        outFile.write(str(n_user[i]) + ' ' + str(user_id) + '\\n')\n",
        "#outFile.close()"
      ],
      "metadata": {
        "id": "yYaVv_s90zl_"
      },
      "id": "yYaVv_s90zl_",
      "execution_count": 13,
      "outputs": []
    },
    {
      "cell_type": "markdown",
      "source": [
        ""
      ],
      "metadata": {
        "id": "KsN1CyDaZusC"
      },
      "id": "KsN1CyDaZusC"
    }
  ],
  "metadata": {
    "kernelspec": {
      "display_name": "Python 3",
      "language": "python",
      "name": "python3"
    },
    "language_info": {
      "codemirror_mode": {
        "name": "ipython",
        "version": 3
      },
      "file_extension": ".py",
      "mimetype": "text/x-python",
      "name": "python",
      "nbconvert_exporter": "python",
      "pygments_lexer": "ipython3",
      "version": "3.8.10"
    },
    "colab": {
      "name": "2021201077_Assignment1_Question1_uint8_FINAL(1).ipynb",
      "provenance": [],
      "collapsed_sections": []
    }
  },
  "nbformat": 4,
  "nbformat_minor": 5
}