{
  "cells": [
    {
      "cell_type": "markdown",
      "id": "02c54141",
      "metadata": {
        "id": "02c54141"
      },
      "source": [
        "## Spam Email Classifier with KNN using TF-IDF scores"
      ]
    },
    {
      "cell_type": "markdown",
      "id": "1c17102e",
      "metadata": {
        "id": "1c17102e"
      },
      "source": [
        "1.   Assignment must be implemented in Python 3 only.\n",
        "2.   You are allowed to use libraries for data preprocessing (numpy, pandas, nltk etc) and for evaluation metrics, data visualization (matplotlib etc.).\n",
        "3.   You will be evaluated not just on the overall performance of the model and also on the experimentation with hyper parameters, data prepossessing techniques etc.\n",
        "4.   The report file must be a well documented jupyter notebook, explaining the experiments you have performed, evaluation metrics and corresponding code. The code must run and be able to reproduce the accuracies, figures/graphs etc.\n",
        "5.   For all the questions, you must create a train-validation data split and test the hyperparameter tuning on the validation set. Your jupyter notebook must reflect the same.\n",
        "6.   Strict plagiarism checking will be done. An F will be awarded for plagiarism."
      ]
    },
    {
      "cell_type": "markdown",
      "id": "0d34a310",
      "metadata": {
        "id": "0d34a310"
      },
      "source": [
        "**Task: Given an email, classify it as spam or ham**\n",
        "\n",
        "Given input text file (\"emails.txt\") containing 5572 email messages, with each row having its corresponding label (spam/ham) attached to it.\n",
        "\n",
        "This task also requires basic pre-processing of text (like removing stopwords, stemming/lemmatizing, replacing email_address with 'email-tag', etc..).\n",
        "\n",
        "You are required to find the tf-idf scores for the given data and use them to perform KNN using Cosine Similarity."
      ]
    },
    {
      "cell_type": "code",
      "source": [
        "# Supress all warnings\n",
        "import warnings\n",
        "warnings.filterwarnings('ignore')"
      ],
      "metadata": {
        "id": "t-Hl7zCNNPwl"
      },
      "id": "t-Hl7zCNNPwl",
      "execution_count": 1,
      "outputs": []
    },
    {
      "cell_type": "markdown",
      "id": "b0c87696",
      "metadata": {
        "id": "b0c87696"
      },
      "source": [
        "### Import necessary libraries"
      ]
    },
    {
      "cell_type": "code",
      "execution_count": 2,
      "id": "3d5a1fe2",
      "metadata": {
        "id": "3d5a1fe2"
      },
      "outputs": [],
      "source": [
        "import pandas as pd                  # For Data Pre-prcocessing.\n",
        "import matplotlib.pyplot as plt      # For plotting graphs and visualization.\n",
        "import nltk                          # For text pre-processing.\n",
        "import numpy as np                   # For performing mathematical operations on vectors and matrices.\n",
        "from sklearn.model_selection import train_test_split          # For splitting data into train and test dataset.\n",
        "from sklearn.metrics import accuracy_score                    # For measuring the accuracy.\n",
        "from sklearn.neighbors import KNeighborsClassifier            # For using sklearn's imbuit KNN classifier algorithm. \n",
        "import math                                                    # For math functions.\n",
        "from sklearn.metrics import confusion_matrix                # For printing confusion matrix.\n",
        "from sklearn.metrics import precision_recall_fscore_support     # For calculating precision recall."
      ]
    },
    {
      "cell_type": "markdown",
      "id": "7aef4dff",
      "metadata": {
        "id": "7aef4dff"
      },
      "source": [
        "### Load dataset"
      ]
    },
    {
      "cell_type": "code",
      "execution_count": 3,
      "id": "f178f892",
      "metadata": {
        "id": "f178f892"
      },
      "outputs": [],
      "source": [
        "with open('emails.txt', 'r') as file:\n",
        "    data = file.read()\n",
        "emails=[]                           # emails list will store the emails.\n",
        "labels=[]                           # labels list will store the labels(0 for spam and 1 for ham).\n",
        "X=[]\n",
        "for email in data.splitlines():\n",
        "    datapoint=email.split(\"\\t\")\n",
        "    if(datapoint[0]=='ham'):\n",
        "      labels.append(1)\n",
        "    else:\n",
        "      labels.append(0)\n",
        "    sample=[]\n",
        "    X.append(datapoint[1])\n",
        "    sample.append(datapoint[1])\n",
        "    emails.append(sample)\n",
        "\n",
        "emails=np.array(emails)           # Converting lists to numpy array for easy and efficient computation.\n",
        "labels=np.array(labels)"
      ]
    },
    {
      "cell_type": "markdown",
      "id": "cd1ef5ba",
      "metadata": {
        "id": "cd1ef5ba"
      },
      "source": [
        "### Preprocess data\n",
        "\n",
        "*   List item\n",
        "*   List item\n",
        "\n"
      ]
    },
    {
      "cell_type": "code",
      "source": [
        "#Preprocessing from Scratch.\n",
        "#I am using NLTK library for text pre - processing. I think it is one of the best for text processing.\n",
        "#Using Porter Stemmer.\n",
        "from nltk.tokenize import RegexpTokenizer\n",
        "from nltk.stem import PorterStemmer\n",
        "# Steps done in preprocessing:\n",
        "#1) Tokenization.\n",
        "#2) Normalization[Conversion to lower character]                                \n",
        "#3) Stemming (Porter Stemmer)\n",
        "def tokenise(raw_data):\n",
        "    # Tokenizing text and normalizing it..\n",
        "    tokenizer = RegexpTokenizer(r'\\w+')\n",
        "    tokenisedText = tokenizer.tokenize(str(raw_data))\n",
        "    tokenNormaliseText = []\n",
        "    for word in tokenisedText:\n",
        "        #Conversion to lower text.\n",
        "        word = word.lower()\n",
        "        tokenNormaliseText.append(word)\n",
        "    return tokenNormaliseText\n",
        "\n",
        "def stem(token_normalised_data):\n",
        "    # Using Portel stemmer\n",
        "    Stemmed_processed_text = []\n",
        "    stemmer = PorterStemmer()\n",
        "    for word in token_normalised_data:\n",
        "        root = stemmer.stem(word)\n",
        "        root = str(root)\n",
        "        Stemmed_processed_text.append(root)\n",
        "    return Stemmed_processed_text"
      ],
      "metadata": {
        "id": "daXDVAX0OQnL"
      },
      "id": "daXDVAX0OQnL",
      "execution_count": 4,
      "outputs": []
    },
    {
      "cell_type": "code",
      "execution_count": 5,
      "id": "fd1733d7",
      "metadata": {
        "id": "fd1733d7"
      },
      "outputs": [],
      "source": [
        "# Processing each email in the dataset\n",
        "emails_list=[]          # Contains preprocessed emails.\n",
        "for email in emails:\n",
        "    processed_text = tokenise(email)\n",
        "    processed_text = stem(processed_text)\n",
        "    emails_list.append(processed_text)\n",
        "emails_list=np.array(emails_list)                                               "
      ]
    },
    {
      "cell_type": "code",
      "source": [
        "# Used 18% (approx 1000 emails) data for validation/testing.\n",
        "train_data, validation_data, train_label, validation_label = train_test_split(emails_list, labels,test_size=0.18,random_state=42) "
      ],
      "metadata": {
        "id": "2ZRLJvrvBgpJ"
      },
      "id": "2ZRLJvrvBgpJ",
      "execution_count": 6,
      "outputs": []
    },
    {
      "cell_type": "markdown",
      "source": [
        ""
      ],
      "metadata": {
        "id": "f84IllMsUILm"
      },
      "id": "f84IllMsUILm"
    },
    {
      "cell_type": "code",
      "source": [
        "totalNumberOfDocuments=len(train_data)\n",
        "print(\"Total training examples:\"+str(len(train_data)))\n",
        "print(\"Total validation examples:\"+str(len(validation_data)))"
      ],
      "metadata": {
        "colab": {
          "base_uri": "https://localhost:8080/"
        },
        "id": "2y4ghSDlNWoG",
        "outputId": "58b22818-8e81-4fc7-87e6-6a71dc2d6328"
      },
      "id": "2y4ghSDlNWoG",
      "execution_count": 7,
      "outputs": [
        {
          "output_type": "stream",
          "name": "stdout",
          "text": [
            "Total training examples:4570\n",
            "Total validation examples:1004\n"
          ]
        }
      ]
    },
    {
      "cell_type": "code",
      "source": [
        "#Vectorization of training data.\n",
        "# Finding unique words in the processes text.\n",
        "unique_words=set()\n",
        "for email in train_data:\n",
        "    for word in email:\n",
        "        unique_words.add(word)\n",
        "words=list(unique_words)\n",
        "words.sort()\n",
        "\n",
        "# Creating term frequency matrix first.\n",
        "myMap={}        # Stores index to each word.\n",
        "for i in range(0,len(words)):\n",
        "    myMap[words[i]]=i\n",
        "numberOfUniqueWords=len(unique_words)\n",
        "tfIdfMatrix=[]\n",
        "for email in train_data:\n",
        "    vector=[0]*numberOfUniqueWords\n",
        "    for word in email:              # Calculates term frequency for each word in a email at hand.\n",
        "        index=myMap[word]\n",
        "        vector[index]+=1\n",
        "    tfIdfMatrix.append(vector)\n",
        "\n",
        "# Creating tf-idf matrix.\n",
        "vector_size=len(tfIdfMatrix[0])\n",
        "matrix_size=len(tfIdfMatrix)\n",
        "idf_array=[]\n",
        "for i in range(0, vector_size):             \n",
        "    idf_count=0\n",
        "    for j in range(0,matrix_size):                                                \n",
        "        if(tfIdfMatrix[j][i]!=0):\n",
        "            idf_count+=1                # calculating document frequence for t\n",
        "    log_idf=math.log(totalNumberOfDocuments/idf_count)\n",
        "    idf_array.append(log_idf)\n",
        "    for j in range(0,matrix_size):\n",
        "        tfIdfMatrix[j][i]*=log_idf \n",
        "tfIdfMatrix = np.array(tfIdfMatrix)"
      ],
      "metadata": {
        "id": "mE0lL5d6WrM4"
      },
      "id": "mE0lL5d6WrM4",
      "execution_count": 8,
      "outputs": []
    },
    {
      "cell_type": "code",
      "source": [
        "#Vectorization of test data, Almost similar process as train data.\n",
        "test_vectors=[]\n",
        "for email in validation_data:\n",
        "    vector=[0]*numberOfUniqueWords\n",
        "    for word in email:\n",
        "        if word in myMap.keys():\n",
        "            index=myMap[word]\n",
        "            vector[index]+=1\n",
        "    test_vectors.append(vector)\n",
        "\n",
        "for i in range(0,len(test_vectors)):\n",
        "    for j in range(0, numberOfUniqueWords):\n",
        "        temp=int(math.exp(idf_array[j]))+1\n",
        "        log_temp=math.log(totalNumberOfDocuments/temp)      \n",
        "        test_vectors[i][j]*=log_temp\n",
        "test_vectors = np.array(test_vectors)"
      ],
      "metadata": {
        "id": "c7Q8789d38fF"
      },
      "id": "c7Q8789d38fF",
      "execution_count": 9,
      "outputs": []
    },
    {
      "cell_type": "markdown",
      "id": "f76767a7",
      "metadata": {
        "id": "f76767a7"
      },
      "source": [
        "### Split data"
      ]
    },
    {
      "cell_type": "markdown",
      "id": "ee6eb76b",
      "metadata": {
        "id": "ee6eb76b"
      },
      "source": [
        "### Train your KNN model (reuse previously implemented model built from \n",
        "\n",
        "*   List item\n",
        "\n",
        "*   List item\n",
        "*   List item\n",
        "\n",
        "\n",
        "*   List item\n",
        "\n",
        "scratch) and test on your data"
      ]
    },
    {
      "cell_type": "code",
      "source": [
        "# Extracting truth values:\n",
        "truth_values=[]\n",
        "for i in range(0,1000):\n",
        "  truth_values.append(1-validation_label[i])\n",
        "k_values=[1,3,5,7,9,11,17,23,28,33]"
      ],
      "metadata": {
        "id": "H1iRobaYc7aS"
      },
      "id": "H1iRobaYc7aS",
      "execution_count": 10,
      "outputs": []
    },
    {
      "cell_type": "markdown",
      "source": [
        ":***1. Experiment with different distance measures [Euclidean distance, Manhattan distance, Hamming Distance] and compare with the Cosine Similarity distance results.***"
      ],
      "metadata": {
        "id": "Eb25m6jf4HAk"
      },
      "id": "Eb25m6jf4HAk"
    },
    {
      "cell_type": "code",
      "execution_count": 11,
      "id": "68f1bb23",
      "metadata": {
        "id": "68f1bb23",
        "colab": {
          "base_uri": "https://localhost:8080/"
        },
        "outputId": "35d4dd74-b17d-4525-a283-b0ea0969acd9"
      },
      "outputs": [
        {
          "output_type": "stream",
          "name": "stdout",
          "text": [
            "All the results for scratch for cosine similarity\n",
            "Confusion matrix\n",
            "             Predicted(Ham)  Predicted(Spam)\n",
            "Actual[Ham]   856              0\n",
            "Actual[Spam]   43              101\n",
            "\n",
            "Precision        Recall          FScore\n",
            "(1.0, 0.7013888888888888, 0.8244897959183674, None)\n",
            "\n",
            "All the results for skelearn's cosine similarity\n",
            "Confusion matrix\n",
            "             Predicted(Ham)  Predicted(Spam)\n",
            "Actual[Ham]    856              0\n",
            "Actual[Spam]   39              105\n",
            "\n",
            "Precision       Recall          FScore\n",
            "(1.0, 0.7291666666666666, 0.8433734939759037, None)\n"
          ]
        }
      ],
      "source": [
        "# Cosine Similarity scratch\n",
        "import math\n",
        "from scipy import spatial\n",
        "def cosine(v1, v2):\n",
        "    sim = spatial.distance.cosine(v1, v2)\n",
        "    return sim\n",
        "\n",
        "def KNN(test_mail, k):\n",
        "    distances=[]\n",
        "    index=0\n",
        "    for email in tfIdfMatrix:                            # For each mail in train data.\n",
        "        sim = cosine(test_mail, email)              # Calculating cosine for train mail with test instance.\n",
        "        temp=[]                                     \n",
        "        temp.append(sim)\n",
        "        temp.append(train_label[index])             \n",
        "        distances.append(temp)\n",
        "        index+=1\n",
        "    distances.sort()\n",
        "    count_spam=0\n",
        "    count_ham=0\n",
        "    # Finding label using labels of k nearest neighbout.\n",
        "    for i in range(0,k):\n",
        "        if(distances[i][1]==0):\n",
        "            count_spam+=1\n",
        "        else:\n",
        "            count_ham+=1\n",
        "    if(count_spam>count_ham):\n",
        "        predicted_label=0\n",
        "    else:\n",
        "        predicted_label=1\n",
        "    return predicted_label\n",
        "\n",
        "#Printing metrics.\n",
        "spam=0\n",
        "ham=0\n",
        "cosine_prediction_scratch=[]\n",
        "for i in range(0,1000):\n",
        "  label=KNN(test_vectors[i],3)\n",
        "  if(label==1):\n",
        "    ham+=1\n",
        "  else: \n",
        "    spam+=1\n",
        "  cosine_prediction_scratch.append(1-label)\n",
        "print(\"All the results for scratch for cosine similarity\")\n",
        "scratch_cosine_CFM = confusion_matrix(truth_values, cosine_prediction_scratch)\n",
        "print(\"Confusion matrix\")\n",
        "print(\"             Predicted(Ham)  Predicted(Spam)\")\n",
        "print(\"Actual[Ham]   \"+str(scratch_cosine_CFM[0][0])+\"              \"+ str(scratch_cosine_CFM[0][1]))\n",
        "print(\"Actual[Spam]   \"+str(scratch_cosine_CFM[1][0])+\"              \"+ str(scratch_cosine_CFM[1][1]))\n",
        "\n",
        "scratch_cosine_results=precision_recall_fscore_support(truth_values, cosine_prediction_scratch,average='binary')\n",
        "print(\"\")\n",
        "print(\"Precision        Recall          FScore\")\n",
        "print(scratch_cosine_results)\n",
        "print(\"\")\n",
        "\n",
        "\n",
        "# Cosine Similarity Sklearn\n",
        "print(\"All the results for skelearn's cosine similarity\")\n",
        "neighbours = KNeighborsClassifier(n_neighbors=3, metric='cosine')\n",
        "neighbours = neighbours.fit(tfIdfMatrix, train_label)\n",
        "spam=0\n",
        "ham=0\n",
        "inbuilt_prediction_cosine=[]\n",
        "for i in range(0,1000):\n",
        "    temp=test_vectors[i]\n",
        "    temp=np.array(temp)\n",
        "    label=neighbours.predict(temp.reshape(1,-1))\n",
        "    if(label==0):\n",
        "        spam+=1\n",
        "    else:\n",
        "        ham+=1\n",
        "    inbuilt_prediction_cosine.append(1-label)\n",
        "\n",
        "sklearns_cosine_CFM = confusion_matrix(truth_values, inbuilt_prediction_cosine)\n",
        "print(\"Confusion matrix\")\n",
        "print(\"             Predicted(Ham)  Predicted(Spam)\")\n",
        "print(\"Actual[Ham]    \"+str(sklearns_cosine_CFM[0][0])+\"              \"+ str(sklearns_cosine_CFM[0][1]))\n",
        "print(\"Actual[Spam]   \"+str(sklearns_cosine_CFM[1][0])+\"              \"+ str(sklearns_cosine_CFM[1][1]))\n",
        "print(\"\")\n",
        "inbuilt_metrics_cosine=precision_recall_fscore_support(truth_values, inbuilt_prediction_cosine,average='binary')\n",
        "print(\"Precision       Recall          FScore\")\n",
        "print(inbuilt_metrics_cosine)"
      ]
    },
    {
      "cell_type": "code",
      "source": [
        "# Sklearn Cosine vs scratch cosine\n",
        "import math\n",
        "from scipy import spatial\n",
        "def cosine(v1, v2):\n",
        "    sim = 1 - spatial.distance.cosine(v1, v2)\n",
        "    return sim\n",
        "\n",
        "# Calculates all distances from every train example for a particular test instance.\n",
        "def findAllDistances(test_email):\n",
        "    distances=[]\n",
        "    index=0\n",
        "    for train_email in tfIdfMatrix:\n",
        "        sim = cosine(test_email, train_email)\n",
        "        temp=[]\n",
        "        temp.append(sim)\n",
        "        temp.append(train_label[index])\n",
        "        distances.append(temp)\n",
        "        index+=1\n",
        "    distances.sort(reverse=True)\n",
        "    return distances\n",
        "printing('metrics')\n",
        "all_predictions=[]                                              # Stores predictions for  k values for scratch.\n",
        "for i in range(0,1000):\n",
        "    distances=findAllDistances(test_vectors[i])\n",
        "    predictions_for_k=[]\n",
        "    for k in k_values:\n",
        "        count_ham=0\n",
        "        count_spam=0\n",
        "        for i in range(0,k):\n",
        "            if(distances[i][1]==0):\n",
        "                count_spam+=1\n",
        "            else:\n",
        "                count_ham+=1\n",
        "        if(count_spam>count_ham):\n",
        "            predicted_label=0\n",
        "        else:\n",
        "            predicted_label=1 \n",
        "        predictions_for_k.append(1-predicted_label)\n",
        "    all_predictions.append(predictions_for_k)\n",
        "\n",
        "def transpose(l1, l2):\n",
        "    l2 =[[row[i] for row in l1] for i in range(len(l1[0]))]\n",
        "    return l2\n",
        "\n",
        "finalPredictions_cosine=[]\n",
        "finalPredictions_cosine=transpose(all_predictions, finalPredictions_cosine)\n",
        "FScores_for_scratch_cosine=[]\n",
        "for row in finalPredictions_cosine:\n",
        "    prfc=precision_recall_fscore_support(truth_values,row,average='binary')\n",
        "    FScores_for_scratch_cosine.append(prfc[2]*100)\n",
        "\n",
        "#Sklearn classifier-KNN\n",
        "all_predictions_for_k=[]                            # Stores predictions for a all k values for each test innstance.\n",
        "for k in k_values:\n",
        "    inbuilt_prediction_for_k=[]\n",
        "    spam=0\n",
        "    ham=0\n",
        "    neighbours = KNeighborsClassifier(n_neighbors=k, metric='cosine')\n",
        "    neighbours = neighbours.fit(tfIdfMatrix, train_label)\n",
        "    for i in range(0,1000):\n",
        "        temp=test_vectors[i]\n",
        "        label=neighbours.predict(temp.reshape(1,-1))\n",
        "        if(label==0):\n",
        "            spam+=1\n",
        "        else:\n",
        "            ham+=1\n",
        "        inbuilt_prediction_for_k.append(1-label)\n",
        "    all_predictions_for_k.append(inbuilt_prediction_for_k)\n",
        "\n",
        "FScores_for_inbuilt_cosine=[]                               # Stores FScores for all k values for sklearn. \n",
        "for row in all_predictions_for_k:\n",
        "    k_vs_Fscore=precision_recall_fscore_support(truth_values,row,average='binary')\n",
        "    FScores_for_inbuilt_cosine.append(k_vs_Fscore[2]*100)\n",
        "\n",
        "# Blue line is Sklearn's and red line is from scratch.\n",
        "print(\"Blue line is Sklearn's and red line is from scratch.\")\n",
        "fig, ax = plt.subplots()\n",
        "ax.plot(k_values, FScores_for_inbuilt_cosine,linewidth=4.0,label='SkLearn')\n",
        "ax.plot(k_values, FScores_for_scratch_cosine,linewidth=4.0,color='red',label='Mine')\n",
        "plt.title('Cosine_comparison_with_Sklearn')\n",
        "plt.xlabel(\"K_Values\")\n",
        "plt.ylabel(\"FScore_in_%\")\n",
        "plt.show()"
      ],
      "metadata": {
        "colab": {
          "base_uri": "https://localhost:8080/",
          "height": 296
        },
        "id": "2eJxodY4gE1s",
        "outputId": "dbaad8d7-4d63-4245-c5d6-66f5d9e77a77"
      },
      "id": "2eJxodY4gE1s",
      "execution_count": 12,
      "outputs": [
        {
          "output_type": "display_data",
          "data": {
            "image/png": "[encoded data removed]",
            "text/plain": [
              "<Figure size 432x288 with 1 Axes>"
            ]
          },
          "metadata": {
            "needs_background": "light"
          }
        }
      ]
    },
    {
      "cell_type": "code",
      "source": [
        "# Euclid Similarity scratch\n",
        "import math\n",
        "def euclid_dist(v1, v2):\n",
        "    dist= np.sqrt(np.sum(np.square(v1 - v2)))\n",
        "    return dist\n",
        "\n",
        "def KNN(test_mail, k):\n",
        "    distances=[]\n",
        "    index=0\n",
        "    for email in tfIdfMatrix:                            # For each mail in train data.\n",
        "        sim = euclid_dist(test_mail, email)              # Calculating cosine for train mail with test instance.\n",
        "        temp=[]                                     \n",
        "        temp.append(sim)\n",
        "        temp.append(train_label[index])             \n",
        "        distances.append(temp)\n",
        "        index+=1\n",
        "    distances.sort()\n",
        "    count_spam=0\n",
        "    count_ham=0\n",
        "    # Finding label using labels of k nearest neighbour.\n",
        "    for i in range(0,k):\n",
        "        if(distances[i][1]==0):\n",
        "            count_spam+=1\n",
        "        else:\n",
        "            count_ham+=1\n",
        "    if(count_spam>count_ham):\n",
        "        predicted_label=0\n",
        "    else:\n",
        "        predicted_label=1\n",
        "    return predicted_label\n",
        "\n",
        "spam=0\n",
        "ham=0\n",
        "euclid_prediction_scratch=[]                                                    # Stores FScores for all k values for scratch\n",
        "for i in range(0,1000):\n",
        "  label=KNN(test_vectors[i],3)\n",
        "  if(label==1):\n",
        "    ham+=1\n",
        "  else: \n",
        "    spam+=1\n",
        "  euclid_prediction_scratch.append(1-label)\n",
        "\n",
        "print(\"All the results for scratch for euclid similarity\")\n",
        "scratch_euclid_CFM = confusion_matrix(truth_values, euclid_prediction_scratch)\n",
        "print(\"Confusion matrix\")\n",
        "print(\"             Predicted(Ham)  Predicted(Spam)\")\n",
        "print(\"Actual[Ham]   \"+str(scratch_euclid_CFM[0][0])+\"              \"+ str(scratch_euclid_CFM[0][1]))\n",
        "print(\"Actual[Spam]   \"+str(scratch_euclid_CFM[1][0])+\"              \"+ str(scratch_euclid_CFM[1][1]))\n",
        "\n",
        "scratch_euclid_results=precision_recall_fscore_support(truth_values, euclid_prediction_scratch,average='binary')\n",
        "print(\"\")\n",
        "print(\"Precision        Recall          FScore\")\n",
        "print(scratch_euclid_results)\n",
        "print(\"\")\n",
        "\n",
        "\n",
        "# Euclid Similarity Sklearn\n",
        "print(\"All the results for skelearn's euclid similarity\")\n",
        "neighbours = KNeighborsClassifier(n_neighbors=3, metric='euclidean')\n",
        "neighbours = neighbours.fit(tfIdfMatrix, train_label)\n",
        "spam=0\n",
        "ham=0\n",
        "inbuilt_prediction_euclid=[]                                                    # Stores FScores for all k values for sklearn. \n",
        "for i in range(0,1000):\n",
        "    temp=test_vectors[i]\n",
        "    temp=np.array(temp)\n",
        "    label=neighbours.predict(temp.reshape(1,-1))\n",
        "    if(label==0):\n",
        "        spam+=1\n",
        "    else:\n",
        "        ham+=1\n",
        "    inbuilt_prediction_euclid.append(1-label)\n",
        "\n",
        "sklearns_euclid_CFM = confusion_matrix(truth_values, inbuilt_prediction_euclid)\n",
        "print(\"Confusion matrix\")\n",
        "print(\"             Predicted(Ham)  Predicted(Spam)\")\n",
        "print(\"Actual[Ham]    \"+str(sklearns_euclid_CFM[0][0])+\"              \"+ str(sklearns_euclid_CFM[0][1]))\n",
        "print(\"Actual[Spam]   \"+str(sklearns_euclid_CFM[1][0])+\"              \"+ str(sklearns_euclid_CFM[1][1]))\n",
        "print(\"\")\n",
        "inbuilt_metrics_euclid=precision_recall_fscore_support(truth_values, inbuilt_prediction_euclid,average='binary')\n",
        "print(\"Precision       Recall          FScore\")\n",
        "print(inbuilt_metrics_euclid)"
      ],
      "metadata": {
        "colab": {
          "base_uri": "https://localhost:8080/"
        },
        "id": "w__sl20xWNDs",
        "outputId": "31c44364-8321-4523-b0e5-2e2ff73a9d64"
      },
      "id": "w__sl20xWNDs",
      "execution_count": 22,
      "outputs": [
        {
          "output_type": "stream",
          "name": "stdout",
          "text": [
            "All the results for scratch for euclid similarity\n",
            "Confusion matrix\n",
            "             Predicted(Ham)  Predicted(Spam)\n",
            "Actual[Ham]   856              0\n",
            "Actual[Spam]   114              30\n",
            "\n",
            "Precision        Recall          FScore\n",
            "(1.0, 0.20833333333333334, 0.3448275862068966, None)\n",
            "\n",
            "All the results for skelearn's euclid similarity\n",
            "Confusion matrix\n",
            "             Predicted(Ham)  Predicted(Spam)\n",
            "Actual[Ham]    856              0\n",
            "Actual[Spam]   114              30\n",
            "\n",
            "Precision       Recall          FScore\n",
            "(1.0, 0.20833333333333334, 0.3448275862068966, None)\n"
          ]
        }
      ]
    },
    {
      "cell_type": "code",
      "source": [
        "# Sklearn euclid vs scratch euclid\n",
        "import math\n",
        "def euclid_dist(v1, v2):\n",
        "    dist= np.sqrt(np.sum(np.square(v1 - v2)))\n",
        "    return dist\n",
        "\n",
        "def findAllDistances(test_email):\n",
        "    distances=[]\n",
        "    index=0\n",
        "    for train_email in tfIdfMatrix:\n",
        "        sim = euclid_dist(test_email, train_email)\n",
        "        temp=[]\n",
        "        temp.append(sim)\n",
        "        temp.append(train_label[index])\n",
        "        distances.append(temp)\n",
        "        index+=1\n",
        "    distances.sort()\n",
        "    return distances\n",
        "\n",
        "scratch_all_predictions_euclid=[]                                       # Stores predictions for a all k values for each test innstance.\n",
        "for i in range(0,1000):\n",
        "    distances=findAllDistances(test_vectors[i])\n",
        "    predictions_for_k=[]\n",
        "    for k in k_values:\n",
        "        count_ham=0\n",
        "        count_spam=0\n",
        "        for i in range(0,k):\n",
        "            if(distances[i][1]==0):\n",
        "                count_spam+=1\n",
        "            else:\n",
        "                count_ham+=1\n",
        "        if(count_spam>count_ham):\n",
        "            predicted_label=0\n",
        "        else:\n",
        "            predicted_label=1 \n",
        "        predictions_for_k.append(1-predicted_label)\n",
        "    scratch_all_predictions_euclid.append(predictions_for_k)\n",
        "\n",
        "def transpose(l1, l2):\n",
        "    l2 =[[row[i] for row in l1] for i in range(len(l1[0]))]\n",
        "    return l2\n",
        "\n",
        "scratch_finalPredictions_euclid=[]                                       # Stores predictions for a all k values for each test innstance.\n",
        "scratch_finalPredictions_euclid=transpose(scratch_all_predictions_euclid, scratch_finalPredictions_euclid)\n",
        "FScores_for_scratch_euclid=[]                                           # Stores Fscores for a all k values for each test innstance.\n",
        "for row in scratch_finalPredictions_euclid:\n",
        "    k_vs_Fscore=precision_recall_fscore_support(truth_values,row,average='binary')\n",
        "    FScores_for_scratch_euclid.append(k_vs_Fscore[2]*100)\n",
        "\n",
        "#Sklearn classifier-KNN\n",
        "all_predictions_sklearn_euclid=[]\n",
        "for k in k_values:\n",
        "    inbuilt_prediction_for_k=[]\n",
        "    spam=0\n",
        "    ham=0\n",
        "    neighbours = KNeighborsClassifier(n_neighbors=k, metric='euclidean')\n",
        "    neighbours = neighbours.fit(tfIdfMatrix, train_label)\n",
        "    for i in range(0,1000):\n",
        "        temp=test_vectors[i]\n",
        "        label=neighbours.predict(temp.reshape(1,-1))\n",
        "        if(label==0):\n",
        "            spam+=1\n",
        "        else:\n",
        "            ham+=1\n",
        "        inbuilt_prediction_for_k.append(1-label)\n",
        "    all_predictions_sklearn_euclid.append(inbuilt_prediction_for_k)\n",
        "\n",
        "FScores_for_sklearn_euclid=[]                                                    # Stores Fscores for a all k values for each test innstance.\n",
        "for row in all_predictions_sklearn_euclid:\n",
        "    k_vs_Fscore=precision_recall_fscore_support(truth_values,row,average='binary')\n",
        "    FScores_for_sklearn_euclid.append(k_vs_Fscore[2]*100)\n",
        "\n",
        "# Blue line is Sklearn's and red line is from scratch.\n",
        "print(\"red: scratch, blue: sklearn\")\n",
        "fig, ax = plt.subplots()\n",
        "ax.plot(k_values, FScores_for_sklearn_euclid,linewidth=4.0,label='SkLearn')\n",
        "ax.plot(k_values, FScores_for_scratch_euclid,linewidth=4.0,color='red',label='Mine',linestyle='dashed')\n",
        "plt.title('Euclid_comparison_with_Sklearn')\n",
        "plt.xlabel(\"K_Values\")\n",
        "plt.ylabel(\"FScore_in_%\")\n",
        "plt.show()"
      ],
      "metadata": {
        "colab": {
          "base_uri": "https://localhost:8080/",
          "height": 296
        },
        "id": "I9zJgwE0XOkR",
        "outputId": "28d18428-6a20-4f7d-def7-19e68d624d31"
      },
      "id": "I9zJgwE0XOkR",
      "execution_count": 14,
      "outputs": [
        {
          "output_type": "display_data",
          "data": {
            "image/png": "[encoded data removed]",
            "text/plain": [
              "<Figure size 432x288 with 1 Axes>"
            ]
          },
          "metadata": {
            "needs_background": "light"
          }
        }
      ]
    },
    {
      "cell_type": "code",
      "source": [
        "# Manhat Similarity scratch\n",
        "import math\n",
        "def manhatton_dist(v1, v2):\n",
        "    sim=np.sum(abs(v1-v2))\n",
        "    return sim\n",
        "\n",
        "def KNN(test_mail, k):\n",
        "    distances=[]\n",
        "    index=0\n",
        "    for email in tfIdfMatrix:                            # For each mail in train data.\n",
        "        sim = manhatton_dist(test_mail, email)              # Calculating cosine for train mail with test instance.\n",
        "        temp=[]                                     \n",
        "        temp.append(sim)\n",
        "        temp.append(train_label[index])             \n",
        "        distances.append(temp)\n",
        "        index+=1\n",
        "    distances.sort()\n",
        "    count_spam=0\n",
        "    count_ham=0\n",
        "    # Finding label using labels of k nearest neighbour.\n",
        "    for i in range(0,k):\n",
        "        if(distances[i][1]==0):\n",
        "            count_spam+=1\n",
        "        else:\n",
        "            count_ham+=1\n",
        "    if(count_spam>count_ham):\n",
        "        predicted_label=0\n",
        "    else:\n",
        "        predicted_label=1\n",
        "    return predicted_label\n",
        "\n",
        "spam=0\n",
        "ham=0\n",
        "manhat_prediction_scratch=[]\n",
        "for i in range(0,1000):\n",
        "  label=KNN(test_vectors[i],3)\n",
        "  if(label==1):\n",
        "    ham+=1\n",
        "  else: \n",
        "    spam+=1\n",
        "  manhat_prediction_scratch.append(1-label)\n",
        "print(\"All the results for scratch for manhattan similarity\")\n",
        "scratch_manhat_CFM = confusion_matrix(truth_values, manhat_prediction_scratch)\n",
        "print(\"Confusion matrix\")\n",
        "print(\"             Predicted(Ham)  Predicted(Spam)\")\n",
        "print(\"Actual[Ham]   \"+str(scratch_manhat_CFM[0][0])+\"              \"+ str(scratch_manhat_CFM[0][1]))\n",
        "print(\"Actual[Spam]   \"+str(scratch_manhat_CFM[1][0])+\"              \"+ str(scratch_manhat_CFM[1][1]))\n",
        "\n",
        "scratch_manhat_results=precision_recall_fscore_support(truth_values, manhat_prediction_scratch,average='binary')\n",
        "print(\"\")\n",
        "print(\"Precision        Recall          FScore\")\n",
        "print(scratch_manhat_results)\n",
        "print(\"\")\n",
        "\n",
        "# Manhat Similarity Sklearn\n",
        "print(\"All the results for skelearn's manhattan similarity\")\n",
        "neighbours = KNeighborsClassifier(n_neighbors=3, metric='manhattan')\n",
        "neighbours = neighbours.fit(tfIdfMatrix, train_label)\n",
        "spam=0\n",
        "ham=0\n",
        "inbuilt_prediction_euclid=[]\n",
        "for i in range(0,1000):\n",
        "    temp=test_vectors[i]\n",
        "    temp=np.array(temp)\n",
        "    label=neighbours.predict(temp.reshape(1,-1))\n",
        "    if(label==0):\n",
        "        spam+=1\n",
        "    else:\n",
        "        ham+=1\n",
        "    inbuilt_prediction_euclid.append(1-label)\n",
        "\n",
        "sklearns_manhat_CFM = confusion_matrix(truth_values, inbuilt_prediction_euclid)\n",
        "print(\"Confusion matrix\")\n",
        "print(\"             Predicted(Ham)  Predicted(Spam)\")\n",
        "print(\"Actual[Ham]    \"+str(sklearns_manhat_CFM[0][0])+\"              \"+ str(sklearns_manhat_CFM[0][1]))\n",
        "print(\"Actual[Spam]   \"+str(sklearns_manhat_CFM[1][0])+\"              \"+ str(sklearns_manhat_CFM[1][1]))\n",
        "print(\"\")\n",
        "inbuilt_metrics_manhat=precision_recall_fscore_support(truth_values, inbuilt_prediction_euclid,average='binary')\n",
        "print(\"Precision       Recall          FScore\")\n",
        "print(inbuilt_metrics_manhat)"
      ],
      "metadata": {
        "colab": {
          "base_uri": "https://localhost:8080/"
        },
        "id": "Ntc3XzErhzbl",
        "outputId": "da4aa86a-300c-4e5b-a6c6-f8e5ec07af6a"
      },
      "id": "Ntc3XzErhzbl",
      "execution_count": 16,
      "outputs": [
        {
          "output_type": "stream",
          "name": "stdout",
          "text": [
            "All the results for scratch for manhattan similarity\n",
            "Confusion matrix\n",
            "             Predicted(Ham)  Predicted(Spam)\n",
            "Actual[Ham]   856              0\n",
            "Actual[Spam]   114              30\n",
            "\n",
            "Precision        Recall          FScore\n",
            "(1.0, 0.20833333333333334, 0.3448275862068966, None)\n",
            "\n",
            "All the results for skelearn's manhattan similarity\n",
            "Confusion matrix\n",
            "             Predicted(Ham)  Predicted(Spam)\n",
            "Actual[Ham]    856              0\n",
            "Actual[Spam]   114              30\n",
            "\n",
            "Precision       Recall          FScore\n",
            "(1.0, 0.20833333333333334, 0.3448275862068966, None)\n"
          ]
        }
      ]
    },
    {
      "cell_type": "code",
      "source": [
        "# Sklearn manhat vs scratch manhat\n",
        "import math\n",
        "def manhat_dist(v1, v2):\n",
        "    dist= np.sum(abs(v1 - v2))\n",
        "    return dist\n",
        "\n",
        "def findAllDistances(test_email):\n",
        "    distances=[]\n",
        "    index=0\n",
        "    for train_email in tfIdfMatrix:\n",
        "        sim = manhat_dist(test_email, train_email)\n",
        "        temp=[]\n",
        "        temp.append(sim)\n",
        "        temp.append(train_label[index])\n",
        "        distances.append(temp)\n",
        "        index+=1\n",
        "    distances.sort()\n",
        "    return distances\n",
        "\n",
        "scratch_all_predictions_manhat=[]\n",
        "for i in range(0,1000):\n",
        "    distances=findAllDistances(test_vectors[i])\n",
        "    predictions_for_k=[]\n",
        "    for k in k_values:\n",
        "        count_ham=0\n",
        "        count_spam=0\n",
        "        for i in range(0,k):\n",
        "            if(distances[i][1]==0):\n",
        "                count_spam+=1\n",
        "            else:\n",
        "                count_ham+=1\n",
        "        if(count_spam>count_ham):\n",
        "            predicted_label=0\n",
        "        else:\n",
        "            predicted_label=1 \n",
        "        predictions_for_k.append(1-predicted_label)\n",
        "    scratch_all_predictions_manhat.append(predictions_for_k)\n",
        "\n",
        "def transpose(l1, l2):\n",
        "    l2 =[[row[i] for row in l1] for i in range(len(l1[0]))]\n",
        "    return l2\n",
        "\n",
        "scratch_finalPredictions_manhat=[]\n",
        "scratch_finalPredictions_manhat=transpose(scratch_all_predictions_manhat, scratch_finalPredictions_manhat)\n",
        "FScores_for_scratch_manhat=[]\n",
        "for row in scratch_finalPredictions_manhat:\n",
        "    k_vs_Fscore=precision_recall_fscore_support(truth_values,row,average='binary')\n",
        "    FScores_for_scratch_manhat.append(k_vs_Fscore[2]*100)\n",
        "\n",
        "#Sklearn classifier-KNN\n",
        "all_predictions_sklearn_manhat=[]\n",
        "for k in k_values:\n",
        "    inbuilt_prediction_for_k=[]\n",
        "    spam=0\n",
        "    ham=0\n",
        "    neighbours = KNeighborsClassifier(n_neighbors=k, metric='manhattan')\n",
        "    neighbours = neighbours.fit(tfIdfMatrix, train_label)\n",
        "    for i in range(0,1000):\n",
        "        temp=test_vectors[i]\n",
        "        label=neighbours.predict(temp.reshape(1,-1))\n",
        "        if(label==0):\n",
        "            spam+=1\n",
        "        else:\n",
        "            ham+=1\n",
        "        inbuilt_prediction_for_k.append(1-label)\n",
        "    all_predictions_sklearn_manhat.append(inbuilt_prediction_for_k)\n",
        "\n",
        "FScores_for_sklearn_manhat=[]\n",
        "for row in all_predictions_sklearn_manhat:\n",
        "    k_vs_Fscore=precision_recall_fscore_support(truth_values,row,average='binary')\n",
        "    FScores_for_sklearn_manhat.append(k_vs_Fscore[2]*100)\n",
        "\n",
        "# Blue line is Sklearn's and red line is from scratch.\n",
        "print(\"red: scratch, blue: sklearn\")\n",
        "fig, ax = plt.subplots()\n",
        "ax.plot(k_values, FScores_for_sklearn_manhat,linewidth=4.0,label='SkLearn')\n",
        "ax.plot(k_values, FScores_for_scratch_manhat,linewidth=4.0,color='red',label='Mine',linestyle='dashed')\n",
        "plt.title('Manhat_comparison_with_Sklearn')\n",
        "plt.xlabel(\"K_Values\")\n",
        "plt.ylabel(\"FScore_in_%\")\n",
        "plt.show()"
      ],
      "metadata": {
        "colab": {
          "base_uri": "https://localhost:8080/",
          "height": 296
        },
        "id": "SA9FOc3dnKGT",
        "outputId": "3d126e8f-c375-4045-bda4-fcab54453dad"
      },
      "id": "SA9FOc3dnKGT",
      "execution_count": 18,
      "outputs": [
        {
          "output_type": "display_data",
          "data": {
            "image/png": "[encoded data removed]",
            "text/plain": [
              "<Figure size 432x288 with 1 Axes>"
            ]
          },
          "metadata": {
            "needs_background": "light"
          }
        }
      ]
    },
    {
      "cell_type": "markdown",
      "id": "22baf6b2",
      "metadata": {
        "id": "22baf6b2"
      },
      "source": [
        ":***1. Experiment with different distance measures [Euclidean distance, Manhattan distance, Hamming Distance] and compare with the Cosine Similarity distance results.***"
      ]
    },
    {
      "cell_type": "code",
      "source": [
        "# Comparision for k value = 3\n",
        "#Prints metrics for all similarity functions for k=3.\n",
        "import math\n",
        "def truncate(number) -> float:\n",
        "    digits=3\n",
        "    stepper = 10.0 ** digits\n",
        "    return math.trunc(stepper * number) / stepper\n",
        "\n",
        "comparision_matrix=[]\n",
        "headings=['Distance','Precision', 'Recall','F-Score']\n",
        "cosine_row=['Cosine',truncate(scratch_cosine_results[0]),truncate(scratch_cosine_results[1]),truncate(scratch_cosine_results[2])]\n",
        "euclid_row=['Euclid',truncate(scratch_euclid_results[0]),truncate(scratch_euclid_results[1]),truncate(scratch_euclid_results[2])]\n",
        "manhatton_row=['Manhat',truncate(scratch_manhat_results[0]),truncate(scratch_manhat_results[1]),truncate(scratch_manhat_results[2])]\n",
        "comparision_matrix.append(headings)\n",
        "comparision_matrix.append(cosine_row)\n",
        "comparision_matrix.append(euclid_row)\n",
        "comparision_matrix.append(manhatton_row)\n",
        "\n",
        "for item in comparision_matrix[0]:\n",
        "    print(item,end=' ')\n",
        "print(' ')\n",
        "for i in range(1,len(comparision_matrix)):\n",
        "    for j in range(0, len(comparision_matrix[0])):\n",
        "        print(comparision_matrix[i][j],end='\\t  ')\n",
        "    print(' ')"
      ],
      "metadata": {
        "colab": {
          "base_uri": "https://localhost:8080/"
        },
        "id": "WvKYG1duSz4y",
        "outputId": "1c423ae6-5919-4f8d-b402-a6e5fe3091ae"
      },
      "id": "WvKYG1duSz4y",
      "execution_count": 19,
      "outputs": [
        {
          "output_type": "stream",
          "name": "stdout",
          "text": [
            "Distance Precision Recall F-Score  \n",
            "Cosine\t  1.0\t  0.701\t  0.824\t   \n",
            "Euclid\t  1.0\t  0.208\t  0.344\t   \n",
            "Manhat\t  1.0\t  0.208\t  0.344\t   \n"
          ]
        }
      ]
    },
    {
      "cell_type": "markdown",
      "source": [
        "***4. Choose different K values (k=1,3,5,7,11,17,23,28) and experiment. Plot a graph showing R2 score vs k.***"
      ],
      "metadata": {
        "id": "oEsqF_vb4fZh"
      },
      "id": "oEsqF_vb4fZh"
    },
    {
      "cell_type": "code",
      "source": [
        "# Comparsion of scratch implementation. [Graph]\n",
        "# Comparision of all the fscore vs k for alldistance functions.\n",
        "print(\"Blue: cosine, green: euclidean, red: manhat\")\n",
        "fig, ax = plt.subplots()\n",
        "ax.plot(k_values, FScores_for_scratch_cosine,linewidth=4.0,label='cosine')\n",
        "ax.plot(k_values, FScores_for_scratch_euclid,linewidth=4.0,color='green',label='euclidean',linestyle='dashed')\n",
        "ax.plot(k_values, FScores_for_scratch_manhat,linewidth=4.0,color='red',label='manhat',linestyle='dotted')\n",
        "plt.title('All distances comparision [scratch]')\n",
        "plt.xlabel(\"K_Values\")\n",
        "plt.ylabel(\"FScore_in_%\")\n",
        "plt.show()"
      ],
      "metadata": {
        "colab": {
          "base_uri": "https://localhost:8080/",
          "height": 296
        },
        "id": "tWN0vtIe2uFA",
        "outputId": "f54cc051-7d48-452e-84e5-3be4ecc4a697"
      },
      "id": "tWN0vtIe2uFA",
      "execution_count": 24,
      "outputs": [
        {
          "output_type": "display_data",
          "data": {
            "image/png": "[encoded data removed]",
            "text/plain": [
              "<Figure size 432x288 with 1 Axes>"
            ]
          },
          "metadata": {
            "needs_background": "light"
          }
        }
      ]
    },
    {
      "cell_type": "code",
      "source": [
        "# Comparsion of sklearn implementation. [Graph]\n",
        "# Comparision of all the fscore vs k for alldistance functions.\n",
        "print(\"Blue: cosine, green: euclidean, red: manhat\")\n",
        "fig, ax = plt.subplots()\n",
        "ax.plot(k_values, FScores_for_inbuilt_cosine,linewidth=4.0,label='cosine')\n",
        "ax.plot(k_values, FScores_for_sklearn_euclid,linewidth=4.0,color='green',label='euclidean',linestyle='dashed')\n",
        "ax.plot(k_values, FScores_for_sklearn_manhat,linewidth=4.0,color='red',label='manhat',linestyle='dotted')\n",
        "plt.title('All distances comparision [scratch]')\n",
        "plt.xlabel(\"K_Values\")\n",
        "plt.ylabel(\"FScore_in_%\")\n",
        "plt.show()"
      ],
      "metadata": {
        "colab": {
          "base_uri": "https://localhost:8080/",
          "height": 296
        },
        "id": "tXgRBbzU3at9",
        "outputId": "83b13e9d-9187-41d4-b5d1-3f9b49c16e20"
      },
      "id": "tXgRBbzU3at9",
      "execution_count": 21,
      "outputs": [
        {
          "output_type": "display_data",
          "data": {
            "image/png": "[encoded data removed]",
            "text/plain": [
              "<Figure size 432x288 with 1 Axes>"
            ]
          },
          "metadata": {
            "needs_background": "light"
          }
        }
      ]
    },
    {
      "cell_type": "markdown",
      "id": "bcf6f3b1",
      "metadata": {
        "id": "bcf6f3b1"
      },
      "source": [
        "***2. Explain which distance measure works best and why? Explore the distance measures and weigh their pro and cons in different application settings.***[link text](https:// [link text](https://))"
      ]
    },
    {
      "cell_type": "markdown",
      "id": "bae57a01",
      "metadata": {
        "id": "bae57a01"
      },
      "source": [
        "\n",
        "Cosine similarity distance measure works best. It is because it measures the angle between two n-dimensional vector. And thus more the cosine similarity, less the angle between them. It captures our intuition of similar vector here in this application. However there is no clear winner amongst the distance metrics when we apply KNN. Sometimes KNN works better, sometimes euclidean distance measure works better and some times other distance measure.\n",
        "\n",
        "For this application setting, we need to improve speed as well as recall and precision.\n",
        "Higher the recall rate, better predictions it makes. It is also important to optimize precision but recall is more important. It is okay if the speed is little less or the system has a bit more latency. As the most of the times, our mail application will classify the mail beforehand and then report it to the user. Thus we should the distance measures that increases the precison and recall.\n",
        "\n",
        "And it is evident from the above results that cosine distance works best for this application setting. It gives highest precision, recall and fscore. \n",
        "But cosine is mathematically expensive operation. It has many unit operations as compared to other similarity functions. Thus distances like euclidean or manhat can be found useful when latency is critical. \n",
        "Needless to say but each similarit function captures some intuition and is best for some subset of problems."
      ]
    },
    {
      "cell_type": "markdown",
      "id": "45a99c76",
      "metadata": {
        "id": "45a99c76"
      },
      "source": [
        "***3. Report Mean Squared Error(MSE), Mean-Absolute-Error(MAE), R-squared (R2) score in a tabular form***\n",
        "\n",
        "Done above for precision, recall, f1-score."
      ]
    },
    {
      "cell_type": "markdown",
      "id": "15000352",
      "metadata": {
        "id": "15000352"
      },
      "source": [
        "### Train and test Sklearn's KNN classifier model on your data (use metric which gave best results on your experimentation with built-from-scratch model.)"
      ]
    },
    {
      "cell_type": "markdown",
      "id": "7d22aa47",
      "metadata": {
        "id": "7d22aa47"
      },
      "source": [
        "***Compare both the models result.***\n",
        "\n",
        "```\n",
        "As discussed above, cosine similarity is performs best among other similarity functions that we have taken into consideration(Euclidean, manhattan). \n",
        "For euclidean and manhattan my implementation and sklearn's KNN are giving extacty same outputs.\n",
        "\n",
        "But in case of cosine similarity, sklearn's KNN gives slightly better results.\n",
        "All the graphs follow the same trend. As the k value increases the F1-score decreases.\n",
        "It is because the dataset is skewed. And in most real life cases, the datasets that we get are skewed. We can apply simple solutions like:-\n",
        "1) Data Augmentation \n",
        "```"
      ]
    },
    {
      "cell_type": "markdown",
      "id": "64987575",
      "metadata": {
        "id": "64987575"
      },
      "source": [
        "***What is the time complexity of training using KNN classifier?***"
      ]
    },
    {
      "cell_type": "markdown",
      "id": "2770c106",
      "metadata": {
        "id": "2770c106"
      },
      "source": [
        "Time complexity of KNN classifier:-\n",
        "O(Number of train examples * Number of latent features) \n",
        "For each test case, we compare the feature of the test instance with every faeture in the train dataset. Comparision of each feature vector takes O(number of latent features time)."
      ]
    },
    {
      "cell_type": "markdown",
      "id": "fad1f345",
      "metadata": {
        "id": "fad1f345"
      },
      "source": [
        "***What is the time complexity while testing? Is KNN a linear classifier or can it learn any boundary?***"
      ]
    },
    {
      "cell_type": "raw",
      "id": "0daaa324",
      "metadata": {
        "id": "0daaa324"
      },
      "source": [
        "Time complexity of KNN classifier:-\n",
        "\n",
        "---\n",
        "\n",
        "O(Number of test examples * Number of train examples * Number of latent features) \n",
        "For each test case, we compare the feature of the test instance with every instance in the train dataset. Comparision of each feature vector takes O(number of latent features time).\n",
        "\n",
        "Yes, KNN can learn a boundary. According to the distribution of the dataset it can learn linear or non-linear boundaries.\n",
        "Yes, it is a non-linear classifier. The value of K is the hyperparameter which needs to be selected such that it increases precision and recall. For our application, recall is most important. The value of k in a way affects the decision boundary. We need to select the value of K which smoothens the decision boundary and increases precesion and recall."
      ]
    },
    {
      "cell_type": "code",
      "source": [
        ""
      ],
      "metadata": {
        "id": "tsgq_lM4GcYR"
      },
      "id": "tsgq_lM4GcYR",
      "execution_count": null,
      "outputs": []
    }
  ],
  "metadata": {
    "kernelspec": {
      "display_name": "Python 3 (ipykernel)",
      "language": "python",
      "name": "python3"
    },
    "language_info": {
      "codemirror_mode": {
        "name": "ipython",
        "version": 3
      },
      "file_extension": ".py",
      "mimetype": "text/x-python",
      "name": "python",
      "nbconvert_exporter": "python",
      "pygments_lexer": "ipython3",
      "version": "3.8.8"
    },
    "colab": {
      "name": "MostOpitmizedNUMPYIMPof HRKCopy of Finall_attempt_hopefully.ipynb",
      "provenance": [],
      "collapsed_sections": []
    },
    "accelerator": "GPU"
  },
  "nbformat": 4,
  "nbformat_minor": 5
}